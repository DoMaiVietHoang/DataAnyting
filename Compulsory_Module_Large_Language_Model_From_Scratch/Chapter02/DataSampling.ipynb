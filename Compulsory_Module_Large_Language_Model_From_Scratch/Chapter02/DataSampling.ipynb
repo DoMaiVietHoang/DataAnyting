{
 "cells": [
  {
   "cell_type": "code",
   "execution_count": 105,
   "metadata": {},
   "outputs": [],
   "source": [
    "import tiktoken\n",
    "tokenizer = tiktoken.get_encoding(\"gpt2\")\n"
   ]
  },
  {
   "cell_type": "code",
   "execution_count": 106,
   "metadata": {},
   "outputs": [],
   "source": [
    "import torch\n",
    "from torch.utils.data import DataLoader, Dataset\n",
    "\n",
    "class GPTDatasetV1(Dataset):\n",
    "    def __init__(self, txt, tokenizer, max_length, stride):\n",
    "        self.input_idx = []\n",
    "        self.target_idx = []\n",
    "        token_ids = tokenizer.encode(txt)\n",
    "        for i in range(0, len(token_ids)-max_length,stride):\n",
    "            input_chunk = token_ids[i:i+max_length]\n",
    "            target_chunk = token_ids[i+1:i+max_length+1]\n",
    "            self.input_idx.append(torch.tensor(input_chunk))\n",
    "            self.target_idx.append(torch.tensor(target_chunk))\n",
    "    \n",
    "    def __len__(self):\n",
    "        return len(self.input_idx)\n",
    "    def __getitem__(self, index) :\n",
    "        return self.input_idx[index], self.target_idx[index]\n",
    "\n"
   ]
  },
  {
   "cell_type": "code",
   "execution_count": 107,
   "metadata": {},
   "outputs": [],
   "source": [
    "def create_dataloader_v1(txt, batch_size=4, max_length=256,\n",
    " stride=128, shuffle=True, drop_last=True,\n",
    " num_workers=0):\n",
    "    \n",
    "   tokenizer = tiktoken.get_encoding(\"gpt2\")\n",
    "   dataset   = GPTDatasetV1(txt, tokenizer, max_length, stride)\n",
    "   dataloader = DataLoader(\n",
    "     dataset,\n",
    "     batch_size=batch_size,\n",
    "     shuffle=shuffle,\n",
    "     drop_last=drop_last,\n",
    "     num_workers=num_workers\n",
    " )\n",
    "   return dataloader"
   ]
  },
  {
   "cell_type": "code",
   "execution_count": 108,
   "metadata": {},
   "outputs": [
    {
     "name": "stdout",
     "output_type": "stream",
     "text": [
      "tensor([[   40,   367,  2885,  1464],\n",
      "        [ 1807,  3619,   402,   271],\n",
      "        [10899,  2138,   257,  7026],\n",
      "        [15632,   438,  2016,   257],\n",
      "        [  922,  5891,  1576,   438],\n",
      "        [  568,   340,   373,   645],\n",
      "        [ 1049,  5975,   284,   502],\n",
      "        [  284,  3285,   326,    11]])\n"
     ]
    }
   ],
   "source": [
    "with open(\"the-verdict.txt\", \"r\", encoding=\"utf-8\") as f:\n",
    "    raw_text = f.read()\n",
    "dataloader = create_dataloader_v1(raw_text, batch_size=8, max_length=4, stride=4, shuffle=False)\n",
    "data_iter = iter(dataloader)\n",
    "inputs,targets = next(data_iter)\n",
    "print(inputs)"
   ]
  },
  {
   "cell_type": "markdown",
   "metadata": {},
   "source": [
    "#### Embedding word "
   ]
  },
  {
   "cell_type": "code",
   "execution_count": 109,
   "metadata": {},
   "outputs": [
    {
     "name": "stdout",
     "output_type": "stream",
     "text": [
      "Embedding(50257, 256)\n"
     ]
    }
   ],
   "source": [
    "vocab_size = 50257 \n",
    "output_dimensions= 256\n",
    "max_length=4\n",
    "token_embedding_layer = torch.nn.Embedding(vocab_size,output_dimensions)\n",
    "print(token_embedding_layer)\n"
   ]
  },
  {
   "cell_type": "code",
   "execution_count": 110,
   "metadata": {},
   "outputs": [
    {
     "name": "stdout",
     "output_type": "stream",
     "text": [
      "torch.Size([8, 4, 256])\n"
     ]
    }
   ],
   "source": [
    "token_embeddings = token_embedding_layer(inputs)\n",
    "print(token_embeddings.shape)"
   ]
  },
  {
   "cell_type": "code",
   "execution_count": 111,
   "metadata": {},
   "outputs": [
    {
     "name": "stdout",
     "output_type": "stream",
     "text": [
      "tensor([[ 1.6101, -0.5680,  1.3296,  ..., -0.9491,  2.6084, -1.3818],\n",
      "        [-0.3198,  0.0304,  2.2102,  ...,  0.1460, -1.0753,  0.6180],\n",
      "        [-0.4907,  0.4497,  0.9035,  ...,  0.9045, -0.4014, -1.0983],\n",
      "        [-0.6530,  1.6669,  0.3676,  ...,  0.6280, -0.6195, -2.3684]],\n",
      "       grad_fn=<SliceBackward0>)\n"
     ]
    }
   ],
   "source": [
    "context_length = max_length\n",
    "pos_embedding_layer = torch.nn.Embedding(context_length,output_dimensions)\n",
    "\n",
    "print(pos_embedding_layer.weight[0:5])\n"
   ]
  },
  {
   "cell_type": "code",
   "execution_count": 112,
   "metadata": {},
   "outputs": [
    {
     "name": "stdout",
     "output_type": "stream",
     "text": [
      "tensor([[ 1.6101, -0.5680,  1.3296,  ..., -0.9491,  2.6084, -1.3818],\n",
      "        [-0.3198,  0.0304,  2.2102,  ...,  0.1460, -1.0753,  0.6180],\n",
      "        [-0.4907,  0.4497,  0.9035,  ...,  0.9045, -0.4014, -1.0983],\n",
      "        [-0.6530,  1.6669,  0.3676,  ...,  0.6280, -0.6195, -2.3684]],\n",
      "       grad_fn=<EmbeddingBackward0>)\n",
      "torch.Size([8, 4, 256])\n"
     ]
    }
   ],
   "source": [
    "posittion = pos_embedding_layer(torch.arange(context_length))\n",
    "print(posittion)\n",
    "input_embeddings = token_embeddings + posittion\n",
    "print(input_embeddings.shape)\n"
   ]
  },
  {
   "cell_type": "code",
   "execution_count": 113,
   "metadata": {},
   "outputs": [
    {
     "name": "stdout",
     "output_type": "stream",
     "text": [
      "Embedding(10, 3)\n"
     ]
    },
    {
     "data": {
      "text/plain": [
       "tensor([[[-1.1514, -0.8176,  2.4795],\n",
       "         [-1.2571, -0.3281, -0.0561],\n",
       "         [-0.1321, -1.2943, -0.6398],\n",
       "         [-0.1070, -0.9359, -0.7723]],\n",
       "\n",
       "        [[-0.1321, -1.2943, -0.6398],\n",
       "         [-1.6411,  0.5236, -0.4785],\n",
       "         [-1.2571, -0.3281, -0.0561],\n",
       "         [-2.5452,  1.1331,  1.1942]]], grad_fn=<EmbeddingBackward0>)"
      ]
     },
     "execution_count": 113,
     "metadata": {},
     "output_type": "execute_result"
    }
   ],
   "source": [
    "embedding = torch.nn.Embedding(10, 3)\n",
    "# a batch of 2 samples of 4 indices each\n",
    "print(embedding)\n",
    "input = torch.LongTensor([[1, 2, 4, 5], [4, 3, 2, 9]])\n",
    "embedding(input)\n"
   ]
  }
 ],
 "metadata": {
  "kernelspec": {
   "display_name": ".venv",
   "language": "python",
   "name": "python3"
  },
  "language_info": {
   "codemirror_mode": {
    "name": "ipython",
    "version": 3
   },
   "file_extension": ".py",
   "mimetype": "text/x-python",
   "name": "python",
   "nbconvert_exporter": "python",
   "pygments_lexer": "ipython3",
   "version": "3.10.1"
  }
 },
 "nbformat": 4,
 "nbformat_minor": 2
}
